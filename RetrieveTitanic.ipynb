{
 "cells": [
  {
   "cell_type": "code",
   "execution_count": 3,
   "metadata": {},
   "outputs": [],
   "source": [
    "# import necessary libraries  (you can import just before using as well)\n",
    "\n",
    "import win32com.client\n",
    "import pandas as pd\n",
    "import numpy as np\n",
    "import matplotlib.pyplot as plt\n"
   ]
  },
  {
   "cell_type": "code",
   "execution_count": null,
   "metadata": {},
   "outputs": [],
   "source": [
    "# Get the database object\n",
    "notesSession = win32com.client.Dispatch(r'Notes.NOTESSESSION')\n",
    "titanicDb = notesSession.GetDatabase(\"Dev-01\", \"developers\\ewerfel\\Collabsphere\\collabsphere1.nsf\")\n",
    "print(type(notesSession))\n",
    "titanicDb.title"
   ]
  },
  {
   "cell_type": "code",
   "execution_count": null,
   "metadata": {},
   "outputs": [],
   "source": [
    "view = titanicDb.GetView(\"Passengers\")\n",
    "view.Name"
   ]
  },
  {
   "cell_type": "code",
   "execution_count": null,
   "metadata": {},
   "outputs": [],
   "source": [
    "# Get the itemList from the first document in view\n",
    "doc = view.GetFirstDocument\n",
    "itemList = []\n",
    "for i in doc.Items:\n",
    "    itemName = i.name\n",
    "    if itemName[0] != \"$\" and itemName != \"Form\":\n",
    "        itemList.append(itemName)\n",
    "itemList"
   ]
  },
  {
   "cell_type": "code",
   "execution_count": null,
   "metadata": {},
   "outputs": [],
   "source": [
    "# Populate dataframe with data from every document in view \n",
    "\n",
    "count = 0   \n",
    "titanicList = []\n",
    "doc = view.GetFirstDocument\n",
    "while not doc == None: \n",
    "    passengerDictionary = {}\n",
    "    for i in itemList:        \n",
    "        if (i in [\"PassengerId\", \"Pclass\", \"Survived\"]):\n",
    "            passengerDictionary[i] = int(doc.GetItemValue(i)[0])\n",
    "        else:\n",
    "            passengerDictionary[i] = doc.GetItemValue(i)[0]\n",
    "    titanicList.append(\n",
    "        passengerDictionary\n",
    "    )       \n",
    "    count = count + 1\n",
    "    if count % 25 == 0:\n",
    "        #break\n",
    "        print(count)\n",
    "    doc = view.GetNextDocument(doc)\n",
    "titanicDf = pd.DataFrame(titanicList)\n",
    "\n",
    "titanicDf.head(30)"
   ]
  },
  {
   "cell_type": "code",
   "execution_count": null,
   "metadata": {},
   "outputs": [],
   "source": [
    "titanicDf.tail(10)"
   ]
  },
  {
   "cell_type": "code",
   "execution_count": null,
   "metadata": {},
   "outputs": [],
   "source": [
    "titanicDf.shape"
   ]
  },
  {
   "cell_type": "code",
   "execution_count": null,
   "metadata": {},
   "outputs": [],
   "source": [
    "titanicDf.describe()"
   ]
  },
  {
   "cell_type": "code",
   "execution_count": null,
   "metadata": {},
   "outputs": [],
   "source": [
    "titanicDf.dtypes"
   ]
  },
  {
   "cell_type": "code",
   "execution_count": null,
   "metadata": {},
   "outputs": [],
   "source": [
    "titanicDf[titanicDf[\"Age\"]==\"\"]\n"
   ]
  },
  {
   "cell_type": "code",
   "execution_count": null,
   "metadata": {},
   "outputs": [],
   "source": [
    "titanicDf"
   ]
  },
  {
   "cell_type": "code",
   "execution_count": null,
   "metadata": {},
   "outputs": [],
   "source": [
    "pd.set_option(\"display.max_rows\", None, \"display.max_columns\", None)\n",
    "titanicDf"
   ]
  },
  {
   "cell_type": "code",
   "execution_count": null,
   "metadata": {},
   "outputs": [],
   "source": [
    "women_survival = titanicDf[titanicDf.Sex == 'female'][\"Survived\"]  # number of women who survived\n",
    "rate_women = sum(women_survival)/len(women_survival)    # number of women who survived / all women\n",
    "\n",
    "\n",
    "men_survival = titanicDf[titanicDf.Sex == 'male'][\"Survived\"]  # number of men who survived\n",
    "rate_men = sum(men_survival)/len(men_survival)    # of women who surived / all women\n",
    "\n",
    "print(\"Women: \" + str(rate_women))\n",
    "print(\"Men: \" + str(rate_men))"
   ]
  },
  {
   "cell_type": "code",
   "execution_count": null,
   "metadata": {
    "scrolled": true
   },
   "outputs": [],
   "source": [
    "classes = titanicDf.groupby(['Pclass']).agg({'Survived':['sum','count','mean']})\n"
   ]
  },
  {
   "cell_type": "code",
   "execution_count": null,
   "metadata": {},
   "outputs": [],
   "source": [
    "titanicDf.groupby(['Embarked']).agg({'Survived':['sum','count','mean']})"
   ]
  },
  {
   "cell_type": "code",
   "execution_count": null,
   "metadata": {},
   "outputs": [],
   "source": [
    "titanicAgeDf = titanicDf[titanicDf[\"Age\"]!=\"\"]\n",
    "titanicAgeDf"
   ]
  },
  {
   "cell_type": "code",
   "execution_count": null,
   "metadata": {},
   "outputs": [],
   "source": [
    "pd.options.mode.chained_assignment = None"
   ]
  },
  {
   "cell_type": "code",
   "execution_count": null,
   "metadata": {},
   "outputs": [],
   "source": [
    "titanicAgeDf.describe()"
   ]
  },
  {
   "cell_type": "code",
   "execution_count": null,
   "metadata": {},
   "outputs": [],
   "source": [
    "didNotSurvive = titanicAgeDf['Age'][titanicDf['Survived']==0]\n",
    "survived = titanicAgeDf['Age'][titanicDf['Survived']==1]\n",
    "plt.hist([didNotSurvive,survived], label=['Survived: No','Survived: Yes'])\n",
    "plt.legend(loc='upper right')\n",
    "plt.title('Relative Frequency of Age');\n"
   ]
  },
  {
   "cell_type": "code",
   "execution_count": null,
   "metadata": {},
   "outputs": [],
   "source": [
    "lookup = {\"C\":\"Cherbourg\",\"S\":\"Southampton\",\"Q\":\"Queenstown\"}\n",
    "titanicDf[\"FullEmbarked\"]=titanicDf[\"Embarked\"].replace(lookup)\n",
    "titanicDf.head()"
   ]
  },
  {
   "cell_type": "code",
   "execution_count": null,
   "metadata": {},
   "outputs": [],
   "source": [
    "myVar=titanicDf[titanicDf[\"PassengerId\"]==2][\"FullEmbarked\"].iloc[0]\n",
    "myVar"
   ]
  },
  {
   "cell_type": "code",
   "execution_count": null,
   "metadata": {},
   "outputs": [],
   "source": [
    "doc = view.GetFirstDocument\n",
    "while not doc == None: \n",
    "    passengerId = doc.GetItemValue(\"PassengerId\")\n",
    "    fullEmbarked = titanicDf[titanicDf[\"PassengerId\"]==passengerId][\"FullEmbarked\"].iloc[0]\n",
    "    doc.ReplaceItemValue(\"FullEmbarked\",[fullEmbarked])\n",
    "    doc.Save(True, True)\n",
    "    doc = view.GetNextDocument(doc)"
   ]
  },
  {
   "cell_type": "code",
   "execution_count": null,
   "metadata": {},
   "outputs": [],
   "source": [
    "count=0\n",
    "doc = view.GetFirstDocument\n",
    "while not doc == None: \n",
    "    passengerId = doc.GetItemValue(\"PassengerId\")\n",
    "    fullEmbarkedSeries = titanicDf.loc[titanicDf[\"PassengerId\"]==passengerId,\"FullEmbarked\"]\n",
    "    print(doc.getItemValue(\"Name\")[0])\n",
    "    if( fullEmbarkedSeries.size > 0):\n",
    "        fullEmbarked = fullEmbarkedSeries.iloc[0]\n",
    "        print(fullEmbarked)\n",
    "        doc.ReplaceItemValue(\"FullEmbarked\",fullEmbarked)\n",
    "        doc.Save(True, True)\n",
    "    else:\n",
    "        print(\"Not found\")\n",
    "    count = count + 1\n",
    "    if count%50 == 0:\n",
    "        #break\n",
    "        print(count)\n",
    "    doc = view.GetNextDocument(doc)"
   ]
  },
  {
   "cell_type": "code",
   "execution_count": null,
   "metadata": {},
   "outputs": [],
   "source": [
    "destFile = r'C:\\Users\\ewerfel\\Documents\\Collabsphere\\titanic.xlsx'\n",
    "titanicDf.to_excel(destFile)"
   ]
  },
  {
   "cell_type": "code",
   "execution_count": null,
   "metadata": {},
   "outputs": [],
   "source": []
  }
 ],
 "metadata": {
  "kernelspec": {
   "display_name": "Python 3",
   "language": "python",
   "name": "python3"
  }
 },
 "nbformat": 4,
 "nbformat_minor": 4
}
